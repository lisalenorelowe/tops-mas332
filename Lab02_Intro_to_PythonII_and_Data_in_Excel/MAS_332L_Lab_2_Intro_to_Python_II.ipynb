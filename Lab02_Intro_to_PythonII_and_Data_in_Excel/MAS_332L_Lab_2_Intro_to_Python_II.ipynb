{
 "cells": [
  {
   "cell_type": "markdown",
   "id": "9c85791c",
   "metadata": {},
   "source": [
    "#  <center> MAS 332L Lab 2:  Introduction to Python II\n",
    "\n",
    "In this class, we will be using Python to manipulate data, clean up data, and plot multiple variables on a single graph.\n",
    " \n",
    "---\n",
    "\n",
    "## Lesson Objectives\n",
    "\n",
    "* You will learn how to:\n",
    "    * Clean up messy data\n",
    "    * Format and append dates that are easily plotted\n",
    "    * Create time series plots with formatted axes and legends\n",
    " \n",
    "  \n",
    "---\n"
   ]
  },
  {
   "cell_type": "markdown",
   "id": "a2ba4ca7",
   "metadata": {},
   "source": [
    "# Before starting:\n",
    "\n",
    "#### Saving Progress\n",
    "\n",
    "One of the issues we ran into last class revolved around saving your progress. By clicking the \"Save and Checkpoint\" button, it should save your progress locally. You will be able to restart your notebook in Jupyter at the same point. If you do not understand how this works, please ask one of us before starting this assignment.\n",
    "\n",
    "#### Assignment Details\n",
    "\n",
    "We are asking you to submit both a copy of the notebook and images of the figures you will generate throughout the lesson. \n",
    "\n",
    "#### Commenting Code\n",
    "\n",
    "As we progress through our Python assignments, it will become increasingly important to comment your code. This will allow you to revisit it at a later time or have someone else look over it to help more easily. \n",
    "\n",
    "#### Please acknowledge that you understand the instructions by copying and pasting each of the following into the next cells.\n",
    "\n",
    "#I understand how to save my progress and reopen the notebook.\n",
    "\n",
    "#I understand that I am being asked to save and submit copies of my notebook as well as figures where noted in the assignment.\n",
    "\n",
    "#I understand that I need to comment my code. "
   ]
  },
  {
   "cell_type": "code",
   "execution_count": null,
   "id": "4566615f",
   "metadata": {},
   "outputs": [],
   "source": []
  },
  {
   "cell_type": "code",
   "execution_count": null,
   "id": "9a3bf0bc",
   "metadata": {},
   "outputs": [],
   "source": []
  },
  {
   "cell_type": "code",
   "execution_count": null,
   "id": "13c8bf98",
   "metadata": {},
   "outputs": [],
   "source": []
  },
  {
   "cell_type": "markdown",
   "id": "5a4f6eb4",
   "metadata": {},
   "source": [
    "\n",
    "### Read in the Data File\n",
    "\n",
    "Recall from the last lab that the Pandas package has a function for reading text/ASCII data called `read_csv()`. Although the function appears to be meant for reading CSV files,  `read_csv` will read *any* delimited data using the `sep=*` keyword argument. Below, you will import the [Pandas](https://pandas.pydata.org/) package and read in a data file that just downloaded in the previous step. Note that the path below is relative to the current notebook and you may have to change the code if you are running in a different environment.\n",
    "\n",
    "\n",
    "Now let's import Pandas so that we can read the hydrography data file we uploaded into our Jupyter Notebooks directory."
   ]
  },
  {
   "cell_type": "code",
   "execution_count": null,
   "id": "35789449",
   "metadata": {},
   "outputs": [],
   "source": [
    "#Import Pandas and alias it as 'pd'\n",
    "import pandas as pd"
   ]
  },
  {
   "cell_type": "code",
   "execution_count": null,
   "id": "7b14a5fc",
   "metadata": {},
   "outputs": [],
   "source": [
    "#Defining the filename allows you to write code that can be reused with different files\n",
    "filename = \"MAS_332L_Lab_2_data\"\n",
    "#Although not descriptive, df is used in R and Python for data frames \n",
    "# because it is short and will need be used and reused often during data cleaning\n",
    "df = pd.read_csv(filename, sep=',', engine='python')"
   ]
  },
  {
   "cell_type": "code",
   "execution_count": null,
   "id": "7533c396",
   "metadata": {},
   "outputs": [],
   "source": [
    "#Peek at the data\n",
    "df.head()"
   ]
  },
  {
   "cell_type": "markdown",
   "id": "6c30f2bb",
   "metadata": {},
   "source": [
    "### Focal Dataset\n",
    "\n",
    "The Fisheries Oceanography in Coastal Alabama (FOCAL) is a long-term hydrographic monitoring program. It is designed to give baseline data on the physical conditions (e.g. temperature, salinity, and dissolved oxygen). Today, we are looking at temperature data at FOCAL over time. Because it's a long-term monitoring program, there are many data available; we will be looking at how to manipulate the data to better view it. \n",
    "\n",
    "**Note that \"mab\" in the column headings means \"meters above the bottom.\"**"
   ]
  },
  {
   "cell_type": "markdown",
   "id": "b9faac51",
   "metadata": {},
   "source": [
    "Let's take a look at columns that pertain to date and time.\n",
    "\n",
    "Using the solution boxes below, answer the following questions:\n",
    "1. What does yyyy represent?\n",
    "2. What do mm, dd, hr, min, and sec represent?\n",
    "3. What date and time is represented in row 0? Write this in the form mm/dd/yyyy hr:min:sec\n"
   ]
  },
  {
   "cell_type": "code",
   "execution_count": null,
   "id": "fc3ff010",
   "metadata": {},
   "outputs": [],
   "source": []
  },
  {
   "cell_type": "code",
   "execution_count": null,
   "id": "2036f81b",
   "metadata": {},
   "outputs": [],
   "source": []
  },
  {
   "cell_type": "code",
   "execution_count": null,
   "id": "800e3daa",
   "metadata": {},
   "outputs": [],
   "source": []
  },
  {
   "cell_type": "markdown",
   "id": "ca19b5f8",
   "metadata": {},
   "source": [
    "Now that we understand the date and time columns, let's check out how often the data is logged.\n",
    "\n",
    "1. What is the timestep for the data? \n",
    "Hint: difference in time between each row\n",
    "2. How many temperature measures are taken per timestep?"
   ]
  },
  {
   "cell_type": "code",
   "execution_count": null,
   "id": "ef18372f",
   "metadata": {},
   "outputs": [],
   "source": []
  },
  {
   "cell_type": "code",
   "execution_count": null,
   "id": "407b61ff",
   "metadata": {
    "scrolled": true
   },
   "outputs": [],
   "source": []
  },
  {
   "cell_type": "markdown",
   "id": "45bc79c6",
   "metadata": {},
   "source": [
    "### Cleaning Up Messy Data\n",
    "\n",
    "Time series are rarely ever nice, clean data sets. Missing values are common and can be the result of a misfunctioning sonde (data collector), biofouling on the sonde, or other lack of sample collection. Python calls missing values \"NaN\", which stands for \"Not a Number\". A first step of cleaning up data is finding and removing these NaN values."
   ]
  },
  {
   "cell_type": "markdown",
   "id": "158a13df",
   "metadata": {},
   "source": [
    "First let's import Numpy so that we can do some simple data manipulation and calculations"
   ]
  },
  {
   "cell_type": "code",
   "execution_count": null,
   "id": "f3bb38dd",
   "metadata": {},
   "outputs": [],
   "source": [
    "#Import the NumPy package and call it 'np'\n",
    "import numpy as np"
   ]
  },
  {
   "cell_type": "markdown",
   "id": "3e9da7e7",
   "metadata": {},
   "source": [
    "First, let's look for NaNs visually. Open up the datafile on your machine and scroll through for a second.\n",
    "\n",
    "Which column(s) contain(s) NaNs?"
   ]
  },
  {
   "cell_type": "code",
   "execution_count": null,
   "id": "ac99d812",
   "metadata": {},
   "outputs": [],
   "source": []
  },
  {
   "cell_type": "markdown",
   "id": "23539d0f",
   "metadata": {},
   "source": [
    "But this is a coding assignment. Let's look for them in the 1mab column.\n",
    "\n"
   ]
  },
  {
   "cell_type": "code",
   "execution_count": null,
   "id": "2e6848a1",
   "metadata": {},
   "outputs": [],
   "source": [
    "#First let's rename 1mab as a variable so we can refer to it more easily. Note: variable names cannot start with numbers.\n",
    "#Create a data frame as before.\n",
    "\n",
    "mab1 = df['1mab']"
   ]
  },
  {
   "cell_type": "markdown",
   "id": "dc73abad",
   "metadata": {},
   "source": [
    "Now let's find where the nans are using Python!\n",
    "\n",
    "The np.isnan() function will categorize any nans as \"True\"."
   ]
  },
  {
   "cell_type": "code",
   "execution_count": null,
   "id": "04d4b318",
   "metadata": {
    "scrolled": true
   },
   "outputs": [],
   "source": [
    "#The syntaz is np.isnan('variable').\n",
    "\n",
    "nans1 = np.isnan(mab1) "
   ]
  },
  {
   "cell_type": "markdown",
   "id": "754bf2bd",
   "metadata": {},
   "source": [
    "#### Count NaNs\n",
    "Now, how many cells are NaNs? We can count how many number values we have using `np.count_nonzero()`"
   ]
  },
  {
   "cell_type": "code",
   "execution_count": null,
   "id": "87a99bfe",
   "metadata": {},
   "outputs": [],
   "source": [
    "# Count how many NaNs, use the np.isnan(mab1) as your variable\n",
    "np.count_nonzero(nans1)"
   ]
  },
  {
   "cell_type": "markdown",
   "id": "95ad2430",
   "metadata": {},
   "source": [
    "#### Save a new variable without NaNs \n",
    "Now let's save a new variable that is `mab1` without NaNs. We can do this by \"applying\" a \"NaN mask\" to `new_mab1`. "
   ]
  },
  {
   "cell_type": "markdown",
   "id": "1d9e1e87",
   "metadata": {},
   "source": [
    "Think back to assingment 3. We made a mask to filter the data to find the temperature of the perfect pool. We defined the perfect pool as one where the temperature exceeded 31 (temp_mask = temp_surf  > 31). The mask was an array of boolean variables (true or false).\n",
    "\n",
    "When we applied that mask, which data did python keep in the new array? "
   ]
  },
  {
   "cell_type": "code",
   "execution_count": null,
   "id": "541af002",
   "metadata": {},
   "outputs": [],
   "source": []
  },
  {
   "cell_type": "markdown",
   "id": "07aff4bf",
   "metadata": {},
   "source": [
    "Let's consider the output of isnan. Which values are true and which are false?"
   ]
  },
  {
   "cell_type": "code",
   "execution_count": null,
   "id": "a93529df",
   "metadata": {},
   "outputs": [],
   "source": []
  },
  {
   "cell_type": "markdown",
   "id": "e70f430c",
   "metadata": {},
   "source": [
    "We want to get rid of the cells in columns that correspond to a NaN location in 'mab1'. This becomes crucial in plotting, when the dimensions of each column must agree with each other. \n",
    "\n",
    "We will use 'np.isnan(mab1)' as a mask, but we want the opposite of the default output: we want to mark the NaNs as 'False'. To do this, all you need to do is add a '~' in front of our 'nans'. The ~ will mark all NaNs as 'False'."
   ]
  },
  {
   "cell_type": "code",
   "execution_count": null,
   "id": "77b56422",
   "metadata": {},
   "outputs": [],
   "source": [
    "#Create a mask\n",
    "nan_mask= ~nans1\n",
    "\n",
    "#Check that we've set up our mask correctly by adding code below.\n"
   ]
  },
  {
   "cell_type": "code",
   "execution_count": null,
   "id": "1c4012d4",
   "metadata": {},
   "outputs": [],
   "source": [
    "#Remember the line of code to apply a mask from Assignment 3: warm_data = temp_surf[temp_mask]\n",
    "#Let's apply the NaN mask to mab1\n",
    "\n",
    "new_mab1 = mab1[nan_mask]"
   ]
  },
  {
   "cell_type": "markdown",
   "id": "420da24a",
   "metadata": {},
   "source": [
    "Let's double check that the NaNs are deleted from `new_mab1` by using the `.size()` function. "
   ]
  },
  {
   "cell_type": "code",
   "execution_count": null,
   "id": "a06e9d21",
   "metadata": {},
   "outputs": [],
   "source": [
    "# How many elements in new_mab1?\n",
    "new_mab1.size"
   ]
  },
  {
   "cell_type": "code",
   "execution_count": null,
   "id": "83f27930",
   "metadata": {},
   "outputs": [],
   "source": [
    "# How many elements in mab1? Write and execute the code.\n"
   ]
  },
  {
   "cell_type": "markdown",
   "id": "b0d10cb2",
   "metadata": {},
   "source": [
    "### Now do it again!\n",
    "\n",
    "mab1 isn't the only column where we added NaNs! Look into the data 6 meters above the bottom and do the following:\n",
    "\n",
    "Create a data frame for the data, count the nans, create a mask, and remove the nans from the column. \n",
    "\n",
    "Make a comment and answer: How many elements were in the column before and after you removed the nans?\n",
    "\n",
    "Remember you can add more cells by using the plus button or entering command mode (esc, then A or B depending if you want the cell above or below)."
   ]
  },
  {
   "cell_type": "code",
   "execution_count": null,
   "id": "e3dec829",
   "metadata": {},
   "outputs": [],
   "source": []
  },
  {
   "cell_type": "code",
   "execution_count": null,
   "id": "cf55e5dd",
   "metadata": {},
   "outputs": [],
   "source": []
  },
  {
   "cell_type": "markdown",
   "id": "064d35d6",
   "metadata": {},
   "source": [
    "# Date Formatting"
   ]
  },
  {
   "cell_type": "markdown",
   "id": "19b829f7",
   "metadata": {},
   "source": [
    "#### Combine all date and time variables\n",
    "Now that we've cleaned up the data, we need to create a datetimestamp so that we can graph everything\n",
    "\n",
    "A datetimestamp simply means a variable that includes the date and time in a single column. Right now, we have our year, month, day, hour, minutes, and seconds in all separate columns. We need to combine those. \n",
    "\n",
    "We will use the pandas function `pd.to_datetime` to do this."
   ]
  },
  {
   "cell_type": "markdown",
   "id": "6a954509",
   "metadata": {},
   "source": [
    "But first, we need to create a new dataframe with only the date and time variables. "
   ]
  },
  {
   "cell_type": "code",
   "execution_count": null,
   "id": "c375dc18",
   "metadata": {},
   "outputs": [],
   "source": [
    "#Create new dataframe with all the date and time variables\n",
    "df_date = df[['yyyy', 'mm', 'dd', 'hr', 'min','sec']]"
   ]
  },
  {
   "cell_type": "markdown",
   "id": "4e72a157",
   "metadata": {},
   "source": [
    "pd.to_datetime also requires that the variables are named year, month, etc.\n",
    "We need to change the names of our variables from yyyy to year, mm to month, etc."
   ]
  },
  {
   "cell_type": "code",
   "execution_count": null,
   "id": "025ea8e1",
   "metadata": {},
   "outputs": [],
   "source": [
    "#Convert column names to proper syntax for pandas'to_datetime' function\n",
    "\n",
    "df_date.columns=[\"year\",\"month\",\"day\",\"hour\",\"minute\",\"second\"]"
   ]
  },
  {
   "cell_type": "code",
   "execution_count": null,
   "id": "87cbe0a3",
   "metadata": {},
   "outputs": [],
   "source": [
    "#Now we can run pd.to_datetime to convert our date and time to a datetimestamp\n",
    "dates = pd.to_datetime(df_date)\n",
    "\n",
    "#and insert it into the first column in the dataframe.\n",
    "\n",
    "df.insert(0, 'Date', dates)"
   ]
  },
  {
   "cell_type": "code",
   "execution_count": null,
   "id": "423e6b8b",
   "metadata": {},
   "outputs": [],
   "source": [
    "#Check out our original dataframe. Is the new Date variable added?\n",
    "df.head()"
   ]
  },
  {
   "cell_type": "markdown",
   "id": "4185a2a2",
   "metadata": {},
   "source": [
    "Would you look at that! However, we now don't need the six columns following it, so let's delete those data from the dataframe.\n",
    "\n",
    "We will use the function df.drop(). For this, we need to specify which column names. Delete those columns and take another peak at the data."
   ]
  },
  {
   "cell_type": "code",
   "execution_count": null,
   "id": "c72e07fd",
   "metadata": {},
   "outputs": [],
   "source": [
    "df=df.drop(columns=['yyyy', 'mm', 'dd','hr','min','sec'])\n",
    "df.head()"
   ]
  },
  {
   "cell_type": "markdown",
   "id": "ba688067",
   "metadata": {},
   "source": [
    "Much better! Now let's plot some of the data."
   ]
  },
  {
   "cell_type": "markdown",
   "id": "7a6e8103",
   "metadata": {},
   "source": [
    "# Plotting the Data"
   ]
  },
  {
   "cell_type": "markdown",
   "id": "621b4bd8",
   "metadata": {},
   "source": [
    "#### Import matplotlib\n",
    "Let's import `matplotlib` so that we can do some graphing. "
   ]
  },
  {
   "cell_type": "code",
   "execution_count": null,
   "id": "ce2f20b2",
   "metadata": {},
   "outputs": [],
   "source": [
    "#import matplotlib, call it plt\n",
    "import matplotlib.pyplot as plt"
   ]
  },
  {
   "cell_type": "markdown",
   "id": "f6dc8d6e",
   "metadata": {},
   "source": [
    "#### Plot Date versus temperature at 1 meter above bottom\n",
    "Now let's start with a simple plot of temperature over time 1 meter above the bottom.\n",
    "\n",
    "Remember, we want to use the new_mab1 variable that has NaNs deleted, so that we don't graph the NaNs.\n",
    "Our x (datetimestamp) is the newly created `df[\"Date\"]`, and our y (temperature at 1 mab) is `new_mab1`.\n",
    "\n",
    "Try the code below to plot `df[\"Date\"]` versus `new_mab1`.\n",
    "\n",
    "Does it work?"
   ]
  },
  {
   "cell_type": "code",
   "execution_count": null,
   "id": "b848d96a",
   "metadata": {},
   "outputs": [],
   "source": [
    "# Plot Date versus new_mab1\n",
    "plt.plot(df['Date'], new_mab1)"
   ]
  },
  {
   "cell_type": "markdown",
   "id": "9a09476d",
   "metadata": {},
   "source": [
    "#### Reading error messages\n",
    "\n",
    "When trying to decipher error messages, it is often best to start at the end of the message itself.\n",
    "\n",
    "Why didn't the plot code work? Copy and paste the reason for the error as a comment in the next cell"
   ]
  },
  {
   "cell_type": "code",
   "execution_count": null,
   "id": "6c78eecb",
   "metadata": {},
   "outputs": [],
   "source": []
  },
  {
   "cell_type": "markdown",
   "id": "2e2fd595",
   "metadata": {},
   "source": [
    "#### The dimensions of x and y were not the same!\n",
    "\n",
    "Oh no! We deleted 39 nans from `mab1` to create `new_mab1`, but we did not delete those same cells from `df[\"Date\"]`! \n",
    "\n",
    "That means there are extra cells in `df[\"Date\"]` that do not correspond to a temperature value in `new_mab1`, and thus we cannot plot these two variables together. \n",
    "\n",
    "We need to get rid of the cells in `df[\"Date\"]` that corresponded to the `mab1` NaN values! But no worries...that is simple enough. We'll just apply that \"NaN mask\" to the date column."
   ]
  },
  {
   "cell_type": "code",
   "execution_count": null,
   "id": "f9a550b5",
   "metadata": {},
   "outputs": [],
   "source": [
    "# Delete the Dates that corresponded to the nan values in mab1 by applying the \"NaN mask\", aka [~np.isnan(mab1)]\n",
    "# We will call the modifed Date variable \"newdate_mab1\"\n",
    "\n",
    "newdate_mab1 = df[\"Date\"][nan_mask]"
   ]
  },
  {
   "cell_type": "code",
   "execution_count": null,
   "id": "21053025",
   "metadata": {},
   "outputs": [],
   "source": [
    "# Let's check out newdate_mab1\n",
    "print(newdate_mab1)"
   ]
  },
  {
   "cell_type": "markdown",
   "id": "35273d2d",
   "metadata": {},
   "source": [
    "#### Now x and y dimensions match\n",
    "Excellent! Now our modified Date column starts at index 38 (remember python indexing begins at 0), which signifies that we deleted the first 39 Date cells that corresponded to the NaNs in mab1. Ok, the dimensions of newdate_mab1 and new_mab1 match now. We can plot!"
   ]
  },
  {
   "cell_type": "code",
   "execution_count": null,
   "id": "06dc6342",
   "metadata": {},
   "outputs": [],
   "source": [
    "# Plot newdate_mab1 versus new_mab1\n",
    "\n",
    "plt.plot(newdate_mab1, new_mab1)"
   ]
  },
  {
   "cell_type": "markdown",
   "id": "e8aa0599",
   "metadata": {},
   "source": [
    "#### Modify x ticks \n",
    "Ok, now we've got a great first pass at a graph that shows temperature on the y axis and date on the x axis.\n",
    "\n",
    "But the x axis shows tick marks for every other month. We want to see tick marks for every month. So let's change that."
   ]
  },
  {
   "cell_type": "markdown",
   "id": "79d6acaa",
   "metadata": {},
   "source": [
    "#### Import dates module\n",
    "First we want to import the `dates` module from `matplotlib` so that we can manipulate the dates x axis"
   ]
  },
  {
   "cell_type": "code",
   "execution_count": null,
   "id": "08a16f28",
   "metadata": {},
   "outputs": [],
   "source": [
    "# import dates module, name it mdates\n",
    "import matplotlib.dates as mdates"
   ]
  },
  {
   "cell_type": "markdown",
   "id": "670a83a0",
   "metadata": {},
   "source": [
    "Now we can manipulate the date axis. We're going to do the next four actions in one cell below."
   ]
  },
  {
   "cell_type": "markdown",
   "id": "228c9f26",
   "metadata": {},
   "source": [
    "#### Create a plot grid\n",
    "\n",
    "Let's use the `plt.subplot()` command, which creates a grid where you can make multiple plots. We will just be making one plot, but this function allows us to have control of the axes on that plot."
   ]
  },
  {
   "cell_type": "markdown",
   "id": "33739bd1",
   "metadata": {},
   "source": [
    "#### Use Month Locator\n",
    "Next, let's use `MonthLocator` from the `dates` module to pinpoint each month. `MonthLocator` has an interval argument that allows you to tell it which months you want pinpointed. For us, that interval is 1. But say you wanted to the axis to be marked every half year - then your interval would be 6."
   ]
  },
  {
   "cell_type": "markdown",
   "id": "5e7522ad",
   "metadata": {},
   "source": [
    "#### Set the major axis\n",
    "Now use `ax.xaxis.set_major_locator() ` to set the major axis. The major axis is all the labeled tick marks. You could also include a minor axis that are ticks without labels."
   ]
  },
  {
   "cell_type": "markdown",
   "id": "12638a8a",
   "metadata": {},
   "source": [
    "#### Plot using ax.plot\n",
    "Now let's plot using `ax.plot` instead of `plt.plot`. Using `ax.plot` allows us to plot with the axis modifications we just made. "
   ]
  },
  {
   "cell_type": "code",
   "execution_count": null,
   "id": "d4f4eaa1",
   "metadata": {},
   "outputs": [],
   "source": [
    "fig, ax = plt.subplots() # create subplots to be able to manupilate axes\n",
    "monthly_locator = mdates.MonthLocator(interval=1) # set your month locator interval to 1 to get monthly tick marks\n",
    "ax.xaxis.set_major_locator(monthly_locator) # set your tick marks to the Major axis, aka, they will be labeled\n",
    "ax.plot(newdate_mab1,  new_mab1) # now plot!"
   ]
  },
  {
   "cell_type": "markdown",
   "id": "65f7dcff",
   "metadata": {},
   "source": [
    "#### Reformat date labels\n",
    "Now we have our x-ticks every month, but it's just giving us the year as the label. So let's change the format of the label. \n",
    "We can do that with `ax.xaxismdates.DateFormatter()`. Add it to the code from above to make a new subplot."
   ]
  },
  {
   "cell_type": "code",
   "execution_count": null,
   "id": "4b4693d2",
   "metadata": {},
   "outputs": [],
   "source": [
    "fig, ax = plt.subplots() # create subplots to be able to manupilate axes\n",
    "monthly_locator = mdates.MonthLocator(interval=1) # set your month locator interval to 1 to get monthly tick marks\n",
    "year_month_formatter = mdates.DateFormatter(\"%Y-%m\") # four digits for year, two for month\n",
    "ax.xaxis.set_major_locator(monthly_locator) # set your tick marks to the Major axis, aka, they will be labeled\n",
    "\n",
    "ax.xaxis.set_major_formatter(year_month_formatter) # formatter for major axis only\n",
    "\n",
    "ax.plot(newdate_mab1,  new_mab1) # now plot!"
   ]
  },
  {
   "cell_type": "markdown",
   "id": "73a74ae8",
   "metadata": {},
   "source": [
    "#### Rotate x tick labels\n",
    "Ok we have our monthly date labels! But...they are stacked on top of each other and can't be read! But this is an easy fix. Let's use `fig.autofmt_xdate()` to rotate the date labels."
   ]
  },
  {
   "cell_type": "code",
   "execution_count": null,
   "id": "0b7515cf",
   "metadata": {},
   "outputs": [],
   "source": [
    "fig, ax = plt.subplots() # create subplots to be able to manupilate axes\n",
    "monthly_locator = mdates.MonthLocator(interval=1) # set your month locator interval to 1 to get monthly tick marks\n",
    "year_month_formatter = mdates.DateFormatter(\"%Y-%m\") # four digits for year, two for month\n",
    "ax.xaxis.set_major_locator(monthly_locator) # set your tick marks to the Major axis, aka, they will be labeled\n",
    "ax.xaxis.set_major_formatter(year_month_formatter) # formatter for major axis only\n",
    "ax.plot(newdate_mab1,  new_mab1) # now plot!\n",
    "\n",
    "fig.autofmt_xdate() #rotate date labels"
   ]
  },
  {
   "cell_type": "markdown",
   "id": "c33b4c88",
   "metadata": {},
   "source": [
    "#### What are the seasonal temperature patterns?\n",
    "Ok! Now let's take a closer look at our plot."
   ]
  },
  {
   "cell_type": "markdown",
   "id": "8171d2be",
   "metadata": {},
   "source": [
    "Which month(s) has the highest temperature values? Comment your answer below. "
   ]
  },
  {
   "cell_type": "code",
   "execution_count": null,
   "id": "e6ca95c4",
   "metadata": {},
   "outputs": [],
   "source": []
  },
  {
   "cell_type": "markdown",
   "id": "741f868d",
   "metadata": {},
   "source": [
    "And which season has the lowest temperature values? Comment your answer below. "
   ]
  },
  {
   "cell_type": "code",
   "execution_count": null,
   "id": "45530a92",
   "metadata": {},
   "outputs": [],
   "source": []
  },
  {
   "cell_type": "markdown",
   "id": "60f2b1be",
   "metadata": {},
   "source": [
    "#### Label the y-axis\n",
    "Sounds good! But let's add an y-axis label so that anyone looking at this plot can see that we are graphing temperature. We can use `ax.set_ylabel()` to do this."
   ]
  },
  {
   "cell_type": "markdown",
   "id": "d29f8379",
   "metadata": {},
   "source": [
    " #### Add a title to the graph\n",
    " Let's also add a title to the graph with `ax.set_title()`."
   ]
  },
  {
   "cell_type": "code",
   "execution_count": null,
   "id": "563ce8d9",
   "metadata": {},
   "outputs": [],
   "source": [
    "fig, ax = plt.subplots() # create subplots to be able to manupilate axes\n",
    "monthly_locator = mdates.MonthLocator(interval=1) # set your month locator interval to 1 to get monthly tick marks\n",
    "year_month_formatter = mdates.DateFormatter(\"%Y-%m\") # four digits for year, two for month\n",
    "ax.xaxis.set_major_locator(monthly_locator) # set your tick marks to the Major axis, aka, they will be labeled\n",
    "ax.xaxis.set_major_formatter(year_month_formatter) # formatter for major axis only\n",
    "ax.plot(newdate_mab1,  new_mab1) # now run!\n",
    "fig.autofmt_xdate() #rotate date labels\n",
    "\n",
    "ax.set_ylabel('Temperature (°C)') # label y axis\n",
    "\n",
    "ax.set_title('Temperature at Focal') # create a title"
   ]
  },
  {
   "cell_type": "markdown",
   "id": "ff171381",
   "metadata": {},
   "source": [
    "#### Add surface temperature to the graph\n",
    "Awesome. Ok now that we have everything set up, let's add some more data to the graph! \n",
    "\n",
    "We have temperature at 20 depths in the water column. We've graphed `new_mab1`, which represents the temperature 1 meter above the bottom, without NaNs. \n",
    "\n",
    "Let's add the surface temperature. Which variable would that be? Answer below with a comment."
   ]
  },
  {
   "cell_type": "code",
   "execution_count": null,
   "id": "41e445a3",
   "metadata": {},
   "outputs": [],
   "source": []
  },
  {
   "cell_type": "markdown",
   "id": "0f1200db",
   "metadata": {},
   "source": [
    "#### What is our x variable?\n",
    "And what is the x variable, or date variable, we should be plotting surface temperature against? Answer below with a comment."
   ]
  },
  {
   "cell_type": "code",
   "execution_count": null,
   "id": "17a01549",
   "metadata": {},
   "outputs": [],
   "source": []
  },
  {
   "cell_type": "markdown",
   "id": "869c605f",
   "metadata": {},
   "source": [
    "#### Let's add surface temp\n",
    "Great. Now let's add the surface temperature to the graph. For our data, that's the 20mab column."
   ]
  },
  {
   "cell_type": "code",
   "execution_count": null,
   "id": "32c0a631",
   "metadata": {},
   "outputs": [],
   "source": [
    "fig, ax = plt.subplots() # create subplots to be able to manupilate axes\n",
    "monthly_locator = mdates.MonthLocator(interval=1) # set your month locator interval to 1 to get monthly tick marks\n",
    "year_month_formatter = mdates.DateFormatter(\"%Y-%m\") # four digits for year, two for month\n",
    "ax.xaxis.set_major_locator(monthly_locator) # set your tick marks to the Major axis, aka, they will be labeled\n",
    "ax.xaxis.set_major_formatter(year_month_formatter) # formatter for major axis only\n",
    "ax.plot(newdate_mab1,  new_mab1) # plot temp 1 meter above bottom\n",
    "\n",
    "ax.plot(df[\"Date\"], df[\"20mab\"]) # plot temperature 20 meters above bottom\n",
    "\n",
    "fig.autofmt_xdate() #rotate date labels\n",
    "ax.set_ylabel('Temperature (°C)') # label y axis\n",
    "ax.set_title('Temperature at Focal') # create a title"
   ]
  },
  {
   "cell_type": "markdown",
   "id": "493b0c8a",
   "metadata": {},
   "source": [
    "#### Add a legend\n",
    "Looks good! Now let's add a legend so that we know which temperature is at the surface and which is at the bottom. \n",
    "\n",
    "We can do that by adding a label to the plot function, `ax.plot(newdate_mab1,  new_mab1, label = \"1 meter above bottom\")`, and then adding `ax.legend()`."
   ]
  },
  {
   "cell_type": "code",
   "execution_count": null,
   "id": "a4c3ec90",
   "metadata": {},
   "outputs": [],
   "source": [
    "fig, ax = plt.subplots() # create subplots to be able to manupilate axes\n",
    "monthly_locator = mdates.MonthLocator(interval=1) # set your month locator interval to 1 to get monthly tick marks\n",
    "year_month_formatter = mdates.DateFormatter(\"%Y-%m\") # four digits for year, two for month\n",
    "ax.xaxis.set_major_locator(monthly_locator) # set your tick marks to the Major axis, aka, they will be labeled\n",
    "ax.xaxis.set_major_formatter(year_month_formatter) # formatter for major axis only\n",
    "\n",
    "ax.plot(newdate_mab1,  new_mab1, label = \"1mab\") # plot temp 1 meter above bottom\n",
    "\n",
    "ax.plot(df[\"Date\"], df[\"20mab\"], label = \"20mab\") # plot temperature 20 meters above bottom\n",
    "\n",
    "fig.autofmt_xdate() #rotate date labels\n",
    "ax.set_ylabel('Temperature (°C)') # label y axis\n",
    "ax.set_title('Temperature at Focal') # create a title\n",
    "\n",
    "ax.legend()"
   ]
  },
  {
   "cell_type": "markdown",
   "id": "c3ef7ad4",
   "metadata": {},
   "source": [
    "#### Compare surface and bottom temperature\n",
    "Great! When is surface water temp higher than bottom temp?"
   ]
  },
  {
   "cell_type": "code",
   "execution_count": null,
   "id": "b3c2ff29",
   "metadata": {},
   "outputs": [],
   "source": []
  },
  {
   "cell_type": "markdown",
   "id": "b21922c0",
   "metadata": {},
   "source": [
    "When is surface temperature lower than bottom temp?"
   ]
  },
  {
   "cell_type": "code",
   "execution_count": null,
   "id": "5c1931d1",
   "metadata": {},
   "outputs": [],
   "source": []
  },
  {
   "cell_type": "markdown",
   "id": "e185dd1b",
   "metadata": {},
   "source": [
    "#### Save plot as pdf\n",
    "Now let's save the plot we made as a pdf with `plt.savefig(name.pdf)`. This saves your plot as a pdf in your Jupyter Notebook directory."
   ]
  },
  {
   "cell_type": "code",
   "execution_count": null,
   "id": "a47ae009",
   "metadata": {},
   "outputs": [],
   "source": [
    "fig, ax = plt.subplots() # create subplots to be able to manupilate axes\n",
    "monthly_locator = mdates.MonthLocator(interval=1) # set your month locator interval to 1 to get monthly tick marks\n",
    "year_month_formatter = mdates.DateFormatter(\"%Y-%m\") # four digits for year, two for month\n",
    "ax.xaxis.set_major_locator(monthly_locator) # set your tick marks to the Major axis, aka, they will be labeled\n",
    "ax.xaxis.set_major_formatter(year_month_formatter) # formatter for major axis only\n",
    "ax.plot(newdate_mab1,  new_mab1, label = \"1mab\") # plot temp 1 meter above bottom\n",
    "ax.plot(df[\"Date\"], df[\"20mab\"], label = \"20mab\") # plot temperature 20 meters above bottom\n",
    "fig.autofmt_xdate() #rotate date labels\n",
    "ax.set_ylabel('Temperature (°C)') # label y axis\n",
    "ax.set_title('Temperature at Focal') # create a title\n",
    "ax.legend()\n",
    "\n",
    "plt.savefig('temp1.pdf') #save plot as temp1.pdf in Jupyter Notebook directory"
   ]
  },
  {
   "cell_type": "markdown",
   "id": "6813d003",
   "metadata": {},
   "source": [
    "#### Save plot as png\n",
    "You can save in other file formats too! Rerun the figure code and save it as a .png instead of a .pdf."
   ]
  },
  {
   "cell_type": "code",
   "execution_count": null,
   "id": "11896341",
   "metadata": {},
   "outputs": [],
   "source": [
    "#Copy and paste figure code below \n",
    "#and modify the line of code to save as a .png using the command we gave you for saving it as a pdf\n"
   ]
  },
  {
   "cell_type": "markdown",
   "id": "1221c4dd",
   "metadata": {},
   "source": [
    "# Add temperature at other depths\n",
    "#### Your turn: Add two more sets of temperature to the graph\n",
    "Ok we are almost done! For the final exercise, choose two temperature columns that are between 1 meters above the bottom and 20 meters above the bottom and add those to the graph. \n",
    "\n",
    "To do this, all you have to do is add this line to the code for each of the column you choose: \n",
    "`ax.plot(df[\"Date\"], df[\"column name\"], label = \"column name\")`. \n",
    "\n",
    "Take a look at how the code for the plot changed when we added the surface temperature, if you have problems. Remember, copy and paste are your best friends. \n",
    "\n"
   ]
  },
  {
   "cell_type": "markdown",
   "id": "d2d35e2a",
   "metadata": {},
   "source": [
    "**YOU WILL NEED TO RENAME THE `plt.savefig()`.**\n",
    "\n",
    "Otherwise, you will write over the earlier plots you saved! Rename the .png file so that you can also turn in a png of this plot."
   ]
  },
  {
   "cell_type": "code",
   "execution_count": null,
   "id": "588d03e0",
   "metadata": {},
   "outputs": [],
   "source": [
    "# Copy and paste the figure code here, and add two new temperature columns you've chosen to graph\n",
    "# Remember to comment your code! Add new comments to whatever you change"
   ]
  },
  {
   "cell_type": "markdown",
   "id": "4c63455a",
   "metadata": {},
   "source": [
    "#### Compare temperature at various depths\n",
    "How does the temperature of the variable you chose compare to the surface and bottom temperature? Comment your answer below. "
   ]
  },
  {
   "cell_type": "code",
   "execution_count": null,
   "id": "b08127f4",
   "metadata": {},
   "outputs": [],
   "source": []
  },
  {
   "cell_type": "markdown",
   "id": "e44ee61c",
   "metadata": {},
   "source": [
    "#### Now change the title \n",
    "\n",
    "Now change the title command to something else. Rerun the figure with the new title. "
   ]
  },
  {
   "cell_type": "code",
   "execution_count": null,
   "id": "1773d995",
   "metadata": {},
   "outputs": [],
   "source": [
    "#Rerun figure with new title, save it as a png\n"
   ]
  },
  {
   "cell_type": "markdown",
   "id": "856e4522",
   "metadata": {},
   "source": [
    "### Depth Profiles\n",
    "\n",
    "Now let's plot some vertical profiles of the temperature data.\n",
    "\n",
    "First, we need to modify the data a bit to get it in a usable format."
   ]
  },
  {
   "cell_type": "code",
   "execution_count": null,
   "id": "4672e114",
   "metadata": {},
   "outputs": [],
   "source": [
    "#Let's look at the data again.\n",
    "df.head()"
   ]
  },
  {
   "cell_type": "code",
   "execution_count": null,
   "id": "b692273d",
   "metadata": {},
   "outputs": [],
   "source": [
    "#Make a copy of the df and call it df_mab\n",
    "df_mab=df.iloc[:,:]"
   ]
  },
  {
   "cell_type": "markdown",
   "id": "172aaec2",
   "metadata": {},
   "source": [
    "Look at the first column. That's the row number stored in the dataframe. We don't want that information to make a vertical plot, so let's drop it."
   ]
  },
  {
   "cell_type": "code",
   "execution_count": null,
   "id": "28fb16e6",
   "metadata": {},
   "outputs": [],
   "source": [
    "#Set the index before transposing, or else 'row number' will be at the top\n",
    "#Make it a new df 'df_mabs'\n",
    "\n",
    "df_mab=df_mab.set_index('Date')\n",
    "df_mab.head()"
   ]
  },
  {
   "cell_type": "markdown",
   "id": "5c5b843d",
   "metadata": {},
   "source": [
    "Let's transpose the data. This will put the mabs as the rows and the datetime as the columns. "
   ]
  },
  {
   "cell_type": "code",
   "execution_count": null,
   "id": "6774afbe",
   "metadata": {},
   "outputs": [],
   "source": [
    "#Transpose, rename\n",
    "df_t = df_mab.transpose()\n",
    "df_t.head()"
   ]
  },
  {
   "cell_type": "markdown",
   "id": "b18b11ce",
   "metadata": {},
   "source": [
    "We have the mab information, but we need a column with the meters off the bottom data as an integer and not a string."
   ]
  },
  {
   "cell_type": "code",
   "execution_count": null,
   "id": "e13651c0",
   "metadata": {},
   "outputs": [],
   "source": [
    "#Create a new column holding the mab information.\n",
    "#np.arange will give us an array of integers.\n",
    "mabs = np.arange(0,21)\n",
    "mabs"
   ]
  },
  {
   "cell_type": "code",
   "execution_count": null,
   "id": "98df9f3e",
   "metadata": {
    "scrolled": true
   },
   "outputs": [],
   "source": [
    "#And now insert the array to the dataframe at the beginning (index=0)\n",
    "df_t.insert(0, 'mab(m)', mabs)\n",
    "df_t.head()"
   ]
  },
  {
   "cell_type": "markdown",
   "id": "46ca6c7c",
   "metadata": {},
   "source": [
    "We now want to plot the temperature (x) versus depth (y). First, select a given date using the column number. We use the index 3000, which corresponds to the timestamp shown below. "
   ]
  },
  {
   "cell_type": "code",
   "execution_count": null,
   "id": "630427bc",
   "metadata": {},
   "outputs": [],
   "source": [
    "somedate = df['Date'][3000]\n",
    "somedate"
   ]
  },
  {
   "cell_type": "code",
   "execution_count": null,
   "id": "52c09ab5",
   "metadata": {},
   "outputs": [],
   "source": [
    "#Vertical plot\n",
    "plt.figure(figsize=[5,8]) #you can set the figure size like so\n",
    "plt.plot(df_t[somedate], df_t['mab(m)']) #plot the temperature data from somedate using the transposed dataframe.\n",
    "plt.show()\n",
    "\n",
    "#Take some time to add axes labels and a title too\n",
    "\n"
   ]
  },
  {
   "cell_type": "markdown",
   "id": "e7fe6172",
   "metadata": {},
   "source": [
    "#### Using a loop to add multiple depth profiles to the same plot\n",
    "\n",
    "I want to make the same plot above but showing data from multiple dates. We have 8722 days worth of data; let's take only some of those."
   ]
  },
  {
   "cell_type": "code",
   "execution_count": null,
   "id": "bbf35922",
   "metadata": {},
   "outputs": [],
   "source": [
    "#Start by selecting some number of dates from the dataframe\n",
    "#Set these as the number of iterations we will run through\n",
    "iterations = df_t.shape[1]//365 #using index==1 to get the number of columns based on the first row\n",
    "iterations"
   ]
  },
  {
   "cell_type": "markdown",
   "id": "362f80ec",
   "metadata": {},
   "source": [
    "Next, we will use a 'for-loop' to add each timestamp's data to the same figure.\n",
    "\n",
    "A for-loop works by running a specified number of iterations. In our case, we have 24 dates we want to find. The for-loop will start at i=1 and run through i=24. For every i, it will find a date from the original dataframe, just like we did above. Then, we will plot that data from the transposed dataset. Each run through the loop will add another depth profile to the plot. We should end up with 24 depth profiles."
   ]
  },
  {
   "cell_type": "code",
   "execution_count": null,
   "id": "340d5dec",
   "metadata": {},
   "outputs": [],
   "source": [
    "plt.figure(figsize=[10,10]) #Create a figure and set the figure size as 10inx10in\n",
    "\n",
    "for i in range(iterations):\n",
    "    somedate = df['Date'][i*356]\n",
    "    plt.plot(df_t[somedate], df_t['mab(m)'])\n",
    "    \n",
    "#Add some lines of code below to add a figure title, axes titles, and a legend, as you did above.\n",
    "#Add some code to save this figure too!\n"
   ]
  },
  {
   "cell_type": "code",
   "execution_count": null,
   "id": "565e7c5e",
   "metadata": {},
   "outputs": [],
   "source": []
  },
  {
   "cell_type": "markdown",
   "id": "5d379359",
   "metadata": {},
   "source": [
    "# We're done! \n",
    "\n",
    "#### You've learned how to clean up data by removing NaNs, how to reformat data and time columns into a datetimestamp, graph multiple lines on a single plot, and make vertical plots.\n",
    "\n",
    "These are key fundamentals of being a physical and geological oceanographer!\n",
    "\n",
    "#### REMEMBER to download and upload this assignment to Canvas. Please download both a .html and .ipynb version of the assignment and upload to Canvas. Also upload the five plots you saved. \n"
   ]
  },
  {
   "cell_type": "markdown",
   "id": "6c745672",
   "metadata": {},
   "source": [
    "Download as>HTML(.html)"
   ]
  },
  {
   "cell_type": "markdown",
   "id": "2e2944e0",
   "metadata": {},
   "source": [
    "Download as>Notebook(.ipynb)"
   ]
  }
 ],
 "metadata": {
  "kernelspec": {
   "display_name": "Python 3 (ipykernel)",
   "language": "python",
   "name": "python3"
  },
  "language_info": {
   "codemirror_mode": {
    "name": "ipython",
    "version": 3
   },
   "file_extension": ".py",
   "mimetype": "text/x-python",
   "name": "python",
   "nbconvert_exporter": "python",
   "pygments_lexer": "ipython3",
   "version": "3.9.12"
  }
 },
 "nbformat": 4,
 "nbformat_minor": 5
}
