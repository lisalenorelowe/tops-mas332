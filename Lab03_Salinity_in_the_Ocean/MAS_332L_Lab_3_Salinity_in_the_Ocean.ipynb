{
 "cells": [
  {
   "cell_type": "markdown",
   "id": "eeea58b3",
   "metadata": {},
   "source": [
    "# <center> MAS 332L Lab 3: Visualizing Salinity Data in the Ocean\n",
    "    "
   ]
  },
  {
   "cell_type": "markdown",
   "id": "d9d0b4dd",
   "metadata": {},
   "source": [
    "### Learning Objectives\n",
    "\n",
    "You will practice skills in:\n",
    "\n",
    "* Reading in data\n",
    "    \n",
    "* Filtering data and calculating basic summary statistics\n",
    "    \n",
    "* Plotting"
   ]
  },
  {
   "cell_type": "markdown",
   "id": "401ff0ea",
   "metadata": {},
   "source": [
    "Hopefully, you've noticed a pattern developing in how we process data in Python. \n",
    "\n",
    "In general, we do the following:\n",
    "\n",
    "1. Upload and read in the data file\n",
    "\n",
    "2. Do any sort of cleaning up of the data. This can involve removing NaNs, pulling out certain dates, removing excess columns, converting time metadata to timesteps, etc. \n",
    "\n",
    "3. Manipulate the data to find the parameters of interest, such as averages, ranges, etc.\n",
    "\n",
    "4. Display the data\n",
    "\n",
    "We will be doing all of that today.\n",
    "\n",
    "First, upload the data included as part of this assignment. Filter out bad sensor data, as indicated by the quality control data, using a mask. Find the average, min, max, and standard deviation for each station for each time period. Then, make a box and whisker plot of the data for better visualization. I have given you much of the required code in an example for  one dataset (Dauphin Island Winter); you will repeat the code for the remaining three stations. "
   ]
  },
  {
   "cell_type": "markdown",
   "id": "b36805cb",
   "metadata": {},
   "source": [
    "## Before starting:\n",
    "\n",
    "#### Assignment Details\n",
    "\n",
    "We are asking you to submit both a copy of the notebook and images of the boxplot you will generate. \n",
    "\n",
    "#### Commenting Code\n",
    "\n",
    "As we progress through our Python assignments, it will become increasingly important to comment your code. This will allow you to revisit it at a later time or have someone else look over it to help more easily. \n",
    "\n",
    "#### Please acknowledge that you understand the instructions by copying and pasting each of the following into the next cells.\n",
    "\n",
    "#I understand how to save my progress and reopen the notebook.\n",
    "\n",
    "#I understand that I am being asked to save and submit copies of my notebook as well as my boxplot.\n",
    "\n",
    "#I understand that I need to comment my code. "
   ]
  },
  {
   "cell_type": "code",
   "execution_count": null,
   "id": "572cbcac",
   "metadata": {},
   "outputs": [],
   "source": []
  },
  {
   "cell_type": "code",
   "execution_count": null,
   "id": "58297ac4",
   "metadata": {},
   "outputs": [],
   "source": []
  },
  {
   "cell_type": "code",
   "execution_count": null,
   "id": "e8013619",
   "metadata": {},
   "outputs": [],
   "source": []
  },
  {
   "cell_type": "markdown",
   "id": "64d02c8b",
   "metadata": {},
   "source": [
    "### Let's get going!\n",
    "\n",
    "Before we get started, we need to import the packages we require to retrieve, manipulate, and plot the data. "
   ]
  },
  {
   "cell_type": "code",
   "execution_count": null,
   "id": "aaef19c4",
   "metadata": {},
   "outputs": [],
   "source": [
    "#Import the NumPy package and call it 'np'\n",
    "import numpy as np\n",
    "\n",
    "#Import Pandas and alias it as 'pd'\n",
    "import pandas as pd\n",
    "\n",
    "#import matplotlib, call it plt\n",
    "import matplotlib.pyplot as plt"
   ]
  },
  {
   "cell_type": "markdown",
   "id": "9db005cb",
   "metadata": {},
   "source": [
    "Now, let's read in the data so Python knows what we're trying to work with.\n",
    "\n",
    "I've shown the example for the Dauphin Island Winter data. "
   ]
  },
  {
   "cell_type": "code",
   "execution_count": null,
   "id": "03aa9abb",
   "metadata": {},
   "outputs": [],
   "source": [
    "#define a filename for the data files to more easily read in \n",
    "DIWinter = \"Dauphin_Island_hyd january.csv\"\n",
    "\n",
    "#create a separate data frame for each\n",
    "#this allows us to read in the data and begin calculations\n",
    "df_DIW=pd.read_csv(DIWinter, sep=',', engine='python')"
   ]
  },
  {
   "cell_type": "code",
   "execution_count": null,
   "id": "2e5685ad",
   "metadata": {},
   "outputs": [],
   "source": [
    "#take a peak at the data\n",
    "df_DIW.head()"
   ]
  },
  {
   "cell_type": "markdown",
   "id": "b4c26f5b",
   "metadata": {},
   "source": [
    "---\n",
    "\n",
    "You will notice that there are several columns of data that we just do not need to worry about. Those include data on the water temperature, dissolved oxygen, depth, and turbidity.\n",
    "\n",
    "\n",
    "Today, all we care about is the salinity data. Those data are in the `salinity1_avg` column. These data are recorded in psu units.\n",
    "\n",
    "The next column, `salinity1Flag`, gives metadata on the salinity sensor. Long term monitoring projects nearly always have a way to tell if the data collected is trustworthy. Sensors often fail in the field, and we need a way to determine which data should be disregarded. For these data, a flag value of 3 indicates the sensor is working correctly; anything less is questionable at best.\n",
    "\n",
    "So, in order to filter out any bad data, we will create a mask so we can keep only the salinity data that we can trust (those with a flag of 3). "
   ]
  },
  {
   "cell_type": "code",
   "execution_count": null,
   "id": "cb1be9a2",
   "metadata": {},
   "outputs": [],
   "source": [
    "#let's start by getting the salinity and flag data\n",
    "#salinity first\n",
    "DIW_salinity = df_DIW['salinity1_avg']\n",
    "DIW_salinity.head() #take a peak"
   ]
  },
  {
   "cell_type": "code",
   "execution_count": null,
   "id": "8e3aaadd",
   "metadata": {},
   "outputs": [],
   "source": [
    "#now get the DIW flag data\n",
    "DIW_flag = df_DIW['salinity1Flag']\n",
    "DIW_flag.head() #take a peak"
   ]
  },
  {
   "cell_type": "markdown",
   "id": "cbb3055e",
   "metadata": {},
   "source": [
    "Before we can find the parameters of interest, we need to create a mask and filter out the bad data. Look back at your other assignments if this next section is confusing. "
   ]
  },
  {
   "cell_type": "code",
   "execution_count": null,
   "id": "41ff30c6",
   "metadata": {},
   "outputs": [],
   "source": [
    "#masks keep false values and retain true ones\n",
    "#I want to keep any salinity data with a flag of 3\n",
    "#Anything else should be disposed of\n",
    "DIW_mask = DIW_flag == 3 \n",
    "DIW_mask.head() #take a peak"
   ]
  },
  {
   "cell_type": "code",
   "execution_count": null,
   "id": "5716212d",
   "metadata": {},
   "outputs": [],
   "source": [
    "#now apply the mask to the salinity data\n",
    "#define the remaining data as an array with the name DIW_sal\n",
    "DIW_sal = DIW_salinity[DIW_mask]\n",
    "DIW_sal #take a peak "
   ]
  },
  {
   "cell_type": "markdown",
   "id": "6dd421f2",
   "metadata": {},
   "source": [
    "Okay! Now we have salinity data for Dauphin Island during the winter month in the variable `DIW_sal`. \n",
    "\n",
    "You should now repeat the above code, filling in fields as necessary. I've started the next one, for what I call DIS for Dauphin Island Summer. You will also need to pull out the salinity data for Perdido Key Winter and Summer. Read in the data files, create data frames for the salinity and salinity flag data, and filter out bad sensor data for all. \n",
    "\n",
    "**In the end, you should have arrays for both stations in both seasons.**\n",
    "\n",
    "---"
   ]
  },
  {
   "cell_type": "code",
   "execution_count": null,
   "id": "d9b7e6ff",
   "metadata": {},
   "outputs": [],
   "source": [
    "#this is just the start\n",
    "#fill in the appropriate file/variable names\n",
    "#and continue from here to applying the mask to the data, as I did above\n",
    "\n",
    "#define a filename for the data files to more easily read in \n",
    "DISummer = \".csv\"\n",
    "\n",
    "#create a separate data frame for each\n",
    "#this allows us to read in the data and begin calculations\n",
    "=pd.read_csv(DISummer, sep=',', engine='python')"
   ]
  },
  {
   "cell_type": "markdown",
   "id": "3bd9cb51",
   "metadata": {},
   "source": [
    "*Hint: if you keep getting errors, double check your variable and file names.* "
   ]
  },
  {
   "cell_type": "code",
   "execution_count": null,
   "id": "68fd571f",
   "metadata": {},
   "outputs": [],
   "source": [
    "#make sure to do Perdido Key for both seasons as well!"
   ]
  },
  {
   "cell_type": "markdown",
   "id": "974e359f",
   "metadata": {},
   "source": [
    "If you've done your coding correctly, you should now have four arrays of varying size. They should be named something along the lines of `DIW_sal`, `DIS_sal`, `PKW_sal`, and `PKS_sal`. The names of your arrays may be different. \n",
    "\n",
    "*Make sure to check the names of any variables in the code.*"
   ]
  },
  {
   "cell_type": "markdown",
   "id": "06f3d28a",
   "metadata": {},
   "source": [
    "We now need to calculate the parameters described in your lab handout! The syntax has been demonstrated for Dauphin Island in the winter; you should now fill in for the remaining data. "
   ]
  },
  {
   "cell_type": "code",
   "execution_count": null,
   "id": "dc7b5534",
   "metadata": {},
   "outputs": [],
   "source": [
    "DIW_avg= DIW_sal.mean() #define and calculate the average\n",
    "DIW_min= DIW_sal.min() #define and calculate the minimum\n",
    "DIW_max= DIW_sal.max() #define and calculate the maximum\n",
    "DIW_stdev= DIW_sal.std() #define and calculate the standard deviation\n",
    "print(\"The parameters for Dauphin Island in the winter are, in the order of (average, min, max, stdev),\") #print statement\n",
    "(round(DIW_avg,1), round(DIW_min,1), round(DIW_max,1), round(DIW_stdev,1)) #printing values rounded to read easier"
   ]
  },
  {
   "cell_type": "code",
   "execution_count": null,
   "id": "9b075aac",
   "metadata": {},
   "outputs": [],
   "source": [
    "#now copy and paste the above three times and change the variable names for the remaining data"
   ]
  },
  {
   "cell_type": "code",
   "execution_count": null,
   "id": "e8ab2779",
   "metadata": {},
   "outputs": [],
   "source": []
  },
  {
   "cell_type": "code",
   "execution_count": null,
   "id": "3fdfbc67",
   "metadata": {},
   "outputs": [],
   "source": []
  },
  {
   "cell_type": "markdown",
   "id": "f685c302",
   "metadata": {},
   "source": [
    "### Boxplots\n",
    "\n",
    "Let's try to make a boxplot again. This time, we're going to try to plot both sites and seasons all together. \n",
    "\n",
    "To do so, we will make a figure with multiple `subplots`. This allows us to make a separate plot for each, with their own titles, data, etc., within a single larger figure. You will save this figure and upload it to Canvas with this Python assignment. \n",
    "\n",
    "#### Read through the code. Check that your variable names match the ones in the code. Add a figure name to save it"
   ]
  },
  {
   "cell_type": "code",
   "execution_count": null,
   "id": "d58bb023",
   "metadata": {},
   "outputs": [],
   "source": [
    "#make a figure with multiple axes and subplots\n",
    "#we need four total subplots\n",
    "#plotting them in a (2,2) or 2x2 grid is best visually\n",
    "#sharey means that the plots share y-axes, which reduces clutter in the plots\n",
    "#defining the figure size as (10,10) makes it large enough to see\n",
    "fig, axs = plt.subplots(2,2, sharey= True, figsize = (10,10))\n",
    "\n",
    "#Let's plot the Dauphin Island summer salinities first\n",
    "#puts in location (0,0) \n",
    "#this is the upper left corner\n",
    "axs[0,0].boxplot(DIS_sal) #makes the boxplot\n",
    "axs[0,0].set(ylabel=\"Salinity (psu)\") #put a label on the common y-axis\n",
    "axs[0,0].set_title('Dauphin Island Summer') #sets the title\n",
    "axs[0,0].set_xlabel(\"\")\n",
    "\n",
    "#Now Dauphin Island winter\n",
    "#I want this to line up horizontally with the other Dauphin Island Data\n",
    "#this (0,1) is the upper right corner\n",
    "axs[0,1].boxplot(DIW_sal) #makes the boxplot\n",
    "axs[0,1].set_title('Dauphin Island Winter') #sets the title\n",
    "\n",
    "#Now Perdido Key Summer\n",
    "#I want this to line up vertically with the other Summer data\n",
    "#(1,0) is the bottom left corner\n",
    "axs[1,0].boxplot(PKS_sal) #makes the boxplot\n",
    "axs[1,0].set(ylabel=\"Salinity (psu)\") #put a label on the common y-axis\n",
    "axs[1,0].set_title('Perdido Key Summer') #sets the title\n",
    "\n",
    "#Now Perdido Key Winter\n",
    "#I want this to line up vertically with the other Winter data\n",
    "#do this one mostly alone\n",
    "axs[].boxplot() #make the boxplot\n",
    "axs[].set_title('') #set the title\n",
    "\n",
    "\n",
    "#add a file name to the line of code here to save the figure\n",
    "plt.savefig(\" .png\")"
   ]
  },
  {
   "cell_type": "markdown",
   "id": "6b18ff32",
   "metadata": {},
   "source": [
    "---\n",
    "\n",
    "### You're done!! \n",
    "\n",
    "Make sure you've saved two copies of your notebook (html and IPYNB) and your boxplot as well."
   ]
  },
  {
   "cell_type": "code",
   "execution_count": null,
   "id": "ea46c6bc",
   "metadata": {},
   "outputs": [],
   "source": []
  }
 ],
 "metadata": {
  "kernelspec": {
   "display_name": "Python 3 (ipykernel)",
   "language": "python",
   "name": "python3"
  },
  "language_info": {
   "codemirror_mode": {
    "name": "ipython",
    "version": 3
   },
   "file_extension": ".py",
   "mimetype": "text/x-python",
   "name": "python",
   "nbconvert_exporter": "python",
   "pygments_lexer": "ipython3",
   "version": "3.9.12"
  }
 },
 "nbformat": 4,
 "nbformat_minor": 5
}
