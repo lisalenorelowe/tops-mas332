{
 "cells": [
  {
   "cell_type": "markdown",
   "id": "f7213604",
   "metadata": {},
   "source": [
    "# <center> Welcome to MAS 332L! "
   ]
  },
  {
   "cell_type": "markdown",
   "id": "7e6b9707",
   "metadata": {},
   "source": [
    "Thank you for downloading the software we need for class! Don't worry- this is not a strictly coding class. You will be using the software in practical applications to become more familiar with data analysis software. If you plan to continue in any scientific discipline, it is incredibly helpful to go in with some knowledge of data analysis, including Excel, general statistics, and a programming language. We have chosen the open source software Python, but you may know of R or Matlab as well. "
   ]
  },
  {
   "cell_type": "markdown",
   "id": "412a8ed8",
   "metadata": {},
   "source": [
    "For a few points as part of your first quiz, be ready to show the TA that you can open this file in Jupyter notebook. For a fun video about my favorite animal, the cuttlefish, click the link below."
   ]
  },
  {
   "cell_type": "markdown",
   "id": "7d8f9161",
   "metadata": {},
   "source": [
    "https://www.youtube.com/watch?v=GDwOi7HpHtQ&t=67s"
   ]
  },
  {
   "cell_type": "code",
   "execution_count": null,
   "id": "98283bc9",
   "metadata": {},
   "outputs": [],
   "source": []
  }
 ],
 "metadata": {
  "kernelspec": {
   "display_name": "Python 3 (ipykernel)",
   "language": "python",
   "name": "python3"
  },
  "language_info": {
   "codemirror_mode": {
    "name": "ipython",
    "version": 3
   },
   "file_extension": ".py",
   "mimetype": "text/x-python",
   "name": "python",
   "nbconvert_exporter": "python",
   "pygments_lexer": "ipython3",
   "version": "3.9.12"
  }
 },
 "nbformat": 4,
 "nbformat_minor": 5
}
