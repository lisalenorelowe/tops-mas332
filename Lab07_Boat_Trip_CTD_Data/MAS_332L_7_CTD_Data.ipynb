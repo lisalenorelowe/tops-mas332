{
 "cells": [
  {
   "cell_type": "markdown",
   "id": "6d1be2a8",
   "metadata": {},
   "source": [
    "# <center> Lab 7: Plotting and Analyzing CTD Data </center>"
   ]
  },
  {
   "cell_type": "markdown",
   "id": "eb8d7563",
   "metadata": {},
   "source": [
    "---\n",
    "Welcome to the Python component of our boat trip! We are going to actually analyze our own data! \n",
    "\n",
    "We will go through some more plotting and manipulation of the data we actually collected.\n",
    "\n",
    "Just as before, we would like you to download your work as both an html and ipynb file and **save a figure of your choice** to Canvas."
   ]
  },
  {
   "cell_type": "markdown",
   "id": "095cd3d5",
   "metadata": {},
   "source": [
    "---\n",
    "#### Please acknowledge that you understand the instructions by copying and pasting each of the following into the next cells.\n",
    "\n",
    "#I understand how to save my progress and reopen the notebook.\n",
    "\n",
    "#I understand that I am being asked to save and submit copies of my notebook as well as a figure of my choice for the assignment.\n",
    "\n",
    "#I understand that I need to comment my code.\n"
   ]
  },
  {
   "cell_type": "code",
   "execution_count": 1,
   "id": "07f05f60",
   "metadata": {},
   "outputs": [],
   "source": []
  },
  {
   "cell_type": "code",
   "execution_count": 2,
   "id": "c455cf46",
   "metadata": {},
   "outputs": [],
   "source": []
  },
  {
   "cell_type": "code",
   "execution_count": null,
   "id": "61311ded",
   "metadata": {},
   "outputs": [],
   "source": []
  },
  {
   "cell_type": "markdown",
   "id": "ef3382a2",
   "metadata": {},
   "source": [
    "###### A note about copying and pasting code in this assignment:\n",
    "Like your last assignment, you are provided code in markdown cells highlighted in gray like this. Copy and paste the given code, modifying where asked, into the coding cell below. Add more cells as necessary.\n",
    "\n",
    "There are also several times in this assignment where we ask you to rerun some code. You will have to copy and paste the correct code from earlier in the assignment into a new cell and modify variable names or add a section as asked.\n",
    "\n",
    "We tried to make this as clear as possible. Code will be provided in blocks of gray text. Code tasks and questions are numbered. Answer the questions as comments or markdown cells. Each numbered task will be graded for completion and accuracy. Remember to add comments!\n",
    "\n",
    "You have all the information you should need, but remember you can always ask questions!"
   ]
  },
  {
   "cell_type": "markdown",
   "id": "66cee048",
   "metadata": {},
   "source": [
    "## Let's get started!\n",
    "\n",
    "First, import a couple packages that we will use throughout this assignment"
   ]
  },
  {
   "cell_type": "code",
   "execution_count": 1,
   "id": "6232165b",
   "metadata": {},
   "outputs": [],
   "source": [
    "#Import Pandas and alias it as 'pd'\n",
    "#for manipulating tables and timeseries\n",
    "import pandas as pd\n",
    "\n",
    "#Import MatPlotLib and alias it as 'plt'\n",
    "#for making plots/graphs/figures\n",
    "import matplotlib.pyplot as plt\n",
    "\n",
    "#Import Numpy and alias it as 'np'\n",
    "#for the arrays\n",
    "import numpy as np"
   ]
  },
  {
   "cell_type": "markdown",
   "id": "4757a253",
   "metadata": {},
   "source": [
    "#### Read in data"
   ]
  },
  {
   "cell_type": "markdown",
   "id": "67b71b0d",
   "metadata": {},
   "source": [
    "1. Start by reading in the data files.\n",
    "We'll help with by loading Station 1.\n",
    "Keeping the variable names consistent with our recommendations will help later in the assignment\n",
    "\n",
    "`filename1 = \"station1_CTD3_092422\" \n",
    "df_1 = pd.read_excel(filename1) `"
   ]
  },
  {
   "cell_type": "code",
   "execution_count": null,
   "id": "8bd99cba",
   "metadata": {},
   "outputs": [],
   "source": []
  },
  {
   "cell_type": "markdown",
   "id": "2768d699",
   "metadata": {},
   "source": [
    "2. Peak at the data.\n",
    "\n",
    "`df_1.head()`"
   ]
  },
  {
   "cell_type": "code",
   "execution_count": null,
   "id": "becb454d",
   "metadata": {},
   "outputs": [],
   "source": []
  },
  {
   "cell_type": "markdown",
   "id": "37db26e9",
   "metadata": {},
   "source": [
    "Now it's your turn! \n",
    "\n",
    "3. Repeat what we just did for Station 2. Read in the second data file, take a peek at the data, and then answer the questions from Exercise 1."
   ]
  },
  {
   "cell_type": "code",
   "execution_count": 7,
   "id": "5c8527eb",
   "metadata": {},
   "outputs": [],
   "source": []
  },
  {
   "cell_type": "markdown",
   "id": "3aa584ab",
   "metadata": {},
   "source": [
    "#### Answer some Qs about the data.\n",
    "\n",
    "4. What does CTD stand for?\n",
    "\n",
    "\n",
    "5. How does the CTD calculate depth?\n",
    "\n",
    "\n",
    "6. How does it measure salinity?\n",
    "\n",
    "\n",
    "7. What is the importance of O2 measurements? What are some possible sources and sinks of oxygen in the water column?\n"
   ]
  },
  {
   "cell_type": "markdown",
   "id": "adb5ca3a",
   "metadata": {},
   "source": []
  },
  {
   "cell_type": "markdown",
   "id": "a6f7e6e0",
   "metadata": {},
   "source": [
    "Look at the headings of the columns. Let's make a table in a markdown cell showing the abbreviation (in the raw data), measured variable, and unit for *any five variables*. See the syntax for a table in the next cell."
   ]
  },
  {
   "cell_type": "markdown",
   "id": "460c60f4",
   "metadata": {},
   "source": [
    "\n",
    "| Heading1 | Heading2 | Heading3 |\n",
    "| :-: | :-: | :-: |\n",
    "| cellinfo1 | cellinfo2 | cellinfo3 |"
   ]
  },
  {
   "cell_type": "markdown",
   "id": "0826431c",
   "metadata": {},
   "source": [
    "This cell contains the markdown code. Your headings should be: Abbreviation (in the raw data), Measured Variable, and Unit.\n",
    "\n",
    "`| Heading1 | Heading2 | Heading3 | #You can have as many rows as you'd like, but each must be bookended by vertical lines\n",
    "| :-: | :-: | :-: | #This line aligns the cell text in the middle\n",
    "| cellinfo1 | cellinfo2 | cellinfo3 | #Repeat this line for as many additional rows as you'd like`"
   ]
  },
  {
   "cell_type": "markdown",
   "id": "d9900651",
   "metadata": {},
   "source": [
    "8. Make the table below. Keep the cell in markdown mode."
   ]
  },
  {
   "cell_type": "code",
   "execution_count": null,
   "id": "e1ab1b38",
   "metadata": {},
   "outputs": [],
   "source": []
  },
  {
   "cell_type": "markdown",
   "id": "5bb8b4af",
   "metadata": {},
   "source": [
    "---\n",
    "#### Vertical Profiles"
   ]
  },
  {
   "cell_type": "markdown",
   "id": "71e87dfc",
   "metadata": {},
   "source": [
    "Let's start with the temperature at Station 1. There's only 1 plot, so we will leave the subplot argument blank *for now*. \n",
    "\n",
    "9. Make the plot\n",
    "\n",
    "`fig1, (ax1) = plt.subplots() # There's only 1 plot, so subplot argument is empty\n",
    "ax1.plot(df_1[\"TempC\"],df_1[\"Depth\"])\n",
    "ax1.set_xlabel('Temperature (C)') #draw x label\n",
    "ax1.xaxis.set_label_position('top') # this moves the label to the top\n",
    "ax1.xaxis.set_ticks_position('top') # this moves the ticks to the top\n",
    "ax1.set_ylabel('Depth (m)')# Draw y label\n",
    "ax1.set_ylim(ax1.get_ylim()[::-1]) #this reverses the yaxis (i.e. deep at the bottom)`"
   ]
  },
  {
   "cell_type": "code",
   "execution_count": null,
   "id": "f4a89a83",
   "metadata": {},
   "outputs": [],
   "source": []
  },
  {
   "cell_type": "markdown",
   "id": "238113f1",
   "metadata": {},
   "source": [
    "#### Add another CTD profile to the plot\n",
    "\n",
    "Let's add another variable to the graph to see two CTD profiles plotted together.\n",
    "\n",
    "We can plot a second variable with temperature by creating another axis using\n",
    "`ax2 = ax1.twiny()`. Note: there are no arguments for this line.\n",
    "\n",
    "By default, ax1 will be on the bottom, and ax2 will be on the top. Because we want temperature displayed on the top, we will call it ax2. We no longer need the command moving the x-axis and tick marks for temperature to the top of the graph.\n",
    "\n",
    "10. Add a plot of DO on ax1. Move the temperature plot to ax2. \n",
    "\n",
    "*Hint:* Amend the code from Part 9 to remove the lines that move the ax1 label and ticks to the top and plots DO on ax1. Add code for `ax2.plot()` and `ax2.set_xlabel()` (you will need to fill in the appropriate arguments) underneath the `ax2 = ax1.twiny()` code to plot temperature on the top.\n",
    "\n",
    "So, your code should look *something* like:\n",
    "\n",
    "`fig1, ax1 = plt.subplots()\n",
    "ax1.plot()\n",
    "... #fill in the rest of the ax1 lines\n",
    "ax2 = ax1.twiny() #fill in the other two lines.`\n"
   ]
  },
  {
   "cell_type": "code",
   "execution_count": null,
   "id": "eaba9fae",
   "metadata": {},
   "outputs": [],
   "source": []
  },
  {
   "cell_type": "markdown",
   "id": "209be8b9",
   "metadata": {},
   "source": [
    "Ok this looks pretty good except we can't tell which line is plotting which variable. \n",
    "Let's change the colors for each variable and axis, so we can easily read the plot. \n",
    "Let's take a look at the base colors available for matplotlib.\n",
    "\n",
    "| Syntax | Color |\n",
    "| :-: | :-: |\n",
    "| 'b' | blue |\n",
    "| 'g' | green |\n",
    "| 'r' | red |\n",
    "| 'c' | cyan |\n",
    "| 'm' | magenta |\n",
    "| 'y' | yellow |\n",
    "| 'k' | black |\n",
    "| 'w' | white |\n",
    "\n",
    "There are a lot more colors available, but these are your basic choices. \n"
   ]
  },
  {
   "cell_type": "markdown",
   "id": "eaabacc6",
   "metadata": {},
   "source": [
    "Now we can use these commands to change the colors of the plot on ax1. \n",
    "\n",
    "11. Add these lines of code in the appropriate location to Part 10. Make sure to change the argument to an actual color and not 'p' OR blue. \n",
    "\n",
    "`\n",
    "ax1.xaxis.label.set_color('p') #Set X-axis label color to color 'p'\n",
    "ax1.tick_params(axis='x', colors='p') #Set X-axis tick color to color 'p'\n",
    "ax1.spines['top'].set_color('p') #Set top spine color to color 'p' `\n",
    "\n",
    "Let's start with DO."
   ]
  },
  {
   "cell_type": "code",
   "execution_count": null,
   "id": "3f563a0b",
   "metadata": {},
   "outputs": [],
   "source": []
  },
  {
   "cell_type": "markdown",
   "id": "9f94b5c3",
   "metadata": {},
   "source": [
    "#### Change the ax2 color\n",
    "\n",
    "Recreate the plot above, but make the below changes:\n",
    "\n",
    "12. Change the xticks, xlabel, xspine, and x values for temperature on ax2 to all the same color. Add similar code from Part 11. "
   ]
  },
  {
   "cell_type": "code",
   "execution_count": 2,
   "id": "12bf6163",
   "metadata": {},
   "outputs": [],
   "source": []
  },
  {
   "cell_type": "markdown",
   "id": "b20902b2",
   "metadata": {},
   "source": [
    "---\n",
    "#### Vertical Profile Subplots\n",
    "\n",
    "Instead of graphing the CTD profiles for variables on the same graph, let's try doing subplots. Sometimes a single graph for multiple variables is too messy, and having subplots can display the information more clearly.\n",
    "\n",
    "We'll start with our original plot for temp, then add a plot next to it for salinity"
   ]
  },
  {
   "cell_type": "markdown",
   "id": "57bb78bc",
   "metadata": {},
   "source": [
    "I'll get y'all started on the first two variables. \n",
    "\n",
    "13. Copy and paste the code below, making sure to check that the appropriate arguments are in the right spots. \n",
    "Note:\n",
    "Subplot now has axs instead of ax1. This allows us to add as many subplots as we want in a grid. \n",
    "\n",
    "Subplot arguments are `(1, 2, sharey = True)`. \n",
    "The `(1,2)` creates a 1x2 grid of subplots. We will change this again later to add more.\n",
    "`sharey = true` allows them to share y-axes with the same scaling and scale labels.\n",
    "    \n",
    "`fig1, axs = plt.subplots(1,2,sharey=True)\n",
    "axs[0,0].plot(df_1[\"TempC\"],df_1[\"Depth\"]) # plot temperature first. (0,0) is the first grid location.\n",
    "axs[0,0].set_xlabel('Temperature (°C)') # x axis\n",
    "axs[0,0].xaxis.set_label_position('top') \n",
    "axs[0,0].xaxis.set_ticks_position('top') \n",
    "axs[0,0].set_ylim(ax1.get_ylim()[::-1])\n",
    "axs[0,0].set_ylabel('Depth (m)') # y axis\n",
    "axs[0,1].plot(df_1[\"Salinity\"],df_1[\"Depth\"], 'r') # plot salinity second. (0,1) is to the right of temperature.\n",
    "axs[0,1].set_xlabel('Salinity (psu)') # x axis\n",
    "axs[0,1].xaxis.set_label_position('top') \n",
    "axs[0,1].xaxis.set_ticks_position('top') \n",
    "axs[0,1].set_ylabel('Depth (m)') # y axis\n",
    "fig1.suptitle(\"Station 1, March 18, 2023\") #gives a grand title that covers all subplots `"
   ]
  },
  {
   "cell_type": "code",
   "execution_count": null,
   "id": "442e48b5",
   "metadata": {},
   "outputs": [],
   "source": []
  },
  {
   "cell_type": "markdown",
   "id": "3c2fa58a",
   "metadata": {},
   "source": [
    "How does the title look to you? \n",
    "We need to move it in order to read it! \n",
    "\n",
    "14. Add x and y coordinates to move the grand title up using:\n",
    "\n",
    "`fig1.suptitle(\"Station 1, March 18, 2023\", x= , y= ) `\n",
    "\n",
    "*Try your own values for x and y until you find ones that make sense.*\n",
    "\n",
    "Let's also get rid of the ylabel 'Depth' for the 2nd plot since we don't really need it. "
   ]
  },
  {
   "cell_type": "code",
   "execution_count": null,
   "id": "8cb1fb27",
   "metadata": {
    "scrolled": true
   },
   "outputs": [],
   "source": []
  },
  {
   "cell_type": "markdown",
   "id": "366a8832",
   "metadata": {},
   "source": [
    "15. Add 2 more subplots of the variable of your choosing. Make each variable a different color or style of line. Refer to the tables above Part 11 for the syntax. \n",
    "\n",
    "Put the new plots next to the first two. \n",
    "\n",
    "*Hint:* you will need to change the `plt.subplot()` arguments to expand the grid to accomodate 2 more subplots. They can all still share a y-axis. Amend the `axs[x,y]` lines of code as well to include the third and fourth plot. \n"
   ]
  },
  {
   "cell_type": "code",
   "execution_count": null,
   "id": "e0f32160",
   "metadata": {},
   "outputs": [],
   "source": []
  },
  {
   "cell_type": "markdown",
   "id": "8a05c5b1",
   "metadata": {},
   "source": [
    "#### Answer the Questions Below\n",
    "\n",
    "Look at the variables you plotted. \n",
    "\n",
    "16. Describe the characteristics of each vertical profile. What, if any, are the differences between the surface, middle, and bottom water?\n",
    "\n",
    "17. How many layers of water masses are indicated from the vertical profiles? \n",
    "\n",
    "18. Under what conditions would you expect to see the values for a given variable to be the same at the surface and bottom? If surface and bottom values were the same for salinity, would you expect them to be the same for other variables too?\n",
    "\n",
    "19. What variable do you think is driving the differences between the water column layers?\n"
   ]
  },
  {
   "cell_type": "markdown",
   "id": "7c5fe55a",
   "metadata": {},
   "source": [
    "---\n",
    "#### Add Plots from Station 2\n",
    "\n",
    "Great! Now we've visualized the data from Station 1. Now, lets add a second row of subplots for Station 2. I will walk you through it for these, so don't start panicking just yet. Let's just think for a second. "
   ]
  },
  {
   "cell_type": "markdown",
   "id": "0c3aeb33",
   "metadata": {},
   "source": [
    "One of the things that can take the longest in replotting data are the data manipulations, to filter the data and whatnot. Did we do any data manipulations so far for this exercise? No! This is good; it shouldn't be too hard then to replot. Most of what we've done so far today has been reformatting. Essentially, That last chunk of code for Part 15 needs to be copied and modified for these data. But we need Python to have the data first, so let's start there. "
   ]
  },
  {
   "cell_type": "markdown",
   "id": "d198f99e",
   "metadata": {},
   "source": [
    "20. Read in the data from Station 2 and take a peak at the data. Look back at Parts 1&2 if you need help. **Make sure to rename the filename and particularly the dataframe `df_1`.**"
   ]
  },
  {
   "cell_type": "code",
   "execution_count": null,
   "id": "e1676912",
   "metadata": {},
   "outputs": [],
   "source": []
  },
  {
   "cell_type": "markdown",
   "id": "6ec7f2e1",
   "metadata": {},
   "source": [
    "Copy and paste your code from Part 15 *twice* in the cell below with some space between the two. Let's refer to these as Sections A and B. We're going to make major changes in Section B while keeping Section A mostly intact and run it all at once. Each step is still numbered, but do not run the cell until you are ready. \n",
    "\n",
    "21. Let's start at the top of Section A, at the first line. It should start with `fig1, axs = plt.subplots(1,4,sharey=True)`. We need to modify the `plt.subplots()` arguments to have a 2x4 grid. Modify appropriately.\n",
    "\n",
    "\n",
    "22. Now let's look at the several lines for `axs[0,0]` in Section A. We had to format the y-axis correctly for the rest of the graphs here. Move down to Section B. Modify each of the `axs[0,0]` arguments in Section B to be for the first column of row 2. Then, starting at the first line, go row by row and change the arguments when needed. *Hint:* after modifying the location for each of the six rows, you should only need to change the arguments in one.\n",
    "\n",
    "\n",
    "23. Great! We've now modified the code for Row 2, Column 1 of Station 2 data. We have three more to modify! Start by modifying the positions `[x,y]` for each subplot in Section B. Then go back through and change the arguments when appropriate. *Hint:* again, we only need to change the arguments in one line of code per subplot.\n",
    "\n",
    "Okay, so now we should have modified each subplot's code for Section B. Make sure to change the `suptitle` to something that makes sense too! Then answer the questions below."
   ]
  },
  {
   "cell_type": "code",
   "execution_count": null,
   "id": "9162c0c8",
   "metadata": {},
   "outputs": [],
   "source": []
  },
  {
   "cell_type": "markdown",
   "id": "77c038e8",
   "metadata": {},
   "source": [
    "#### Compare Data Between Stations\n",
    "\n",
    "24. Let's look at the plots for the each variable. Identify which variables show different patterns (e.g., salinity is high at the surface and decreases with depth for Station 1 vs. salinity is low at the surface and increases with depth) or very different scales (e.g., a salinity of 5 vs. a salinity of 35). \n",
    "\n",
    "25. Speculate on what is driving the difference between the stations. Consider the important variables and processes that might be influencing them. Is one closer to a freshwater source? Is one more likely to have more nutrients available? Answers will be graded in the how well reasoned and explained your responses are. "
   ]
  },
  {
   "cell_type": "code",
   "execution_count": null,
   "id": "47c03aa2",
   "metadata": {},
   "outputs": [],
   "source": []
  },
  {
   "cell_type": "markdown",
   "id": "0d7a5184",
   "metadata": {},
   "source": [
    "---\n",
    "#### Compare to this time last year"
   ]
  },
  {
   "cell_type": "markdown",
   "id": "af840d55",
   "metadata": {},
   "source": [
    "Let's compare the data from this year to the same time last year. Dr. Sprinkle's class took a Lenny CTD cast from a similar location on March 19, 2022. I'd like us to plot the exact same variables as above, but for this date. This process is the nearly the same for what we did in Parts 20-23."
   ]
  },
  {
   "cell_type": "markdown",
   "id": "cff0e757",
   "metadata": {},
   "source": [
    "26. Read in the data from Dr. Sprinkle's class and take a peak at the data. Look back at Parts 1&2 (or 20) if you need help. **Remember to rename the filename and dataframe `df_1` in particular.**"
   ]
  },
  {
   "cell_type": "code",
   "execution_count": null,
   "id": "855eb96e",
   "metadata": {},
   "outputs": [],
   "source": []
  },
  {
   "cell_type": "markdown",
   "id": "ba47153b",
   "metadata": {},
   "source": [
    "Copy and paste your code modified for Parts 21-23 *once* in the cell below. Then copy and paste Section B again below (so that you now have once cell with Section A, Section B, and Section B again). Let's refer to this as Section C. We're going to make major changes in Section C while keeping Sections A & B mostly intact and run it all at once. Each step is still numbered, but do not run the code in the cell below until you are ready. \n",
    "\n",
    "27. Let's start at the top of Section A, at the first line again. It should start with `fig1, axs = plt.subplots(2,4,sharey=True)`. We need to modify the `plt.subplots()` arguments to have a 3x4 grid now. Modify appropriately.\n",
    "\n",
    "\n",
    "28. Now let's move down to Section C. Modify each of the `axs[1,0]` arguments in Section C to be for the first column of row 3. Then, starting at the first line of Section C, go row by row and change the arguments when needed. *Hint:* after modifying the subplot location for each of the six rows, you should only need to change the arguments in one.\n",
    "\n",
    "\n",
    "29. Great! We've now modified the code for Row 2, Column 1 of Station 2 data. We have three more to modify! Start by modifying the positions `[x,y]` for each subplot in Section B. Then go back through and change the arguments when appropriate. *Hint:* again, we only need to change the arguments in one line of code per subplot.\n",
    "\n",
    "Okay, so now we should have modified each subplot's code for Section C. Make sure to change the `suptitle` to something that makes sense too! Then answer the questions below."
   ]
  },
  {
   "cell_type": "code",
   "execution_count": null,
   "id": "0d2cca53",
   "metadata": {},
   "outputs": [],
   "source": []
  },
  {
   "cell_type": "markdown",
   "id": "93b430ec",
   "metadata": {},
   "source": [
    "#### Last Round of Questions:\n",
    "\n",
    "30. Take a second to admire your plots. Now, compare Station 2 to Station 1 and then compare 2022 to 2023 Station 1. Which data are more different: Station 2 or Year 2022. \n",
    "\n",
    "\n",
    "31. Speculate on what is driving the change. Did something happen around this time last year? Does it make sense to you?"
   ]
  },
  {
   "cell_type": "code",
   "execution_count": null,
   "id": "91ce4728",
   "metadata": {},
   "outputs": [],
   "source": []
  },
  {
   "cell_type": "markdown",
   "id": "47b4e414",
   "metadata": {},
   "source": [
    "#### That's all!!!\n",
    "\n",
    "Many of the above answers depend heavily on which variables you chose to define/plot, so please keep that in mind as you're looking over your grades."
   ]
  },
  {
   "cell_type": "code",
   "execution_count": null,
   "id": "f85b712e",
   "metadata": {},
   "outputs": [],
   "source": []
  }
 ],
 "metadata": {
  "kernelspec": {
   "display_name": "Python 3 (ipykernel)",
   "language": "python",
   "name": "python3"
  },
  "language_info": {
   "codemirror_mode": {
    "name": "ipython",
    "version": 3
   },
   "file_extension": ".py",
   "mimetype": "text/x-python",
   "name": "python",
   "nbconvert_exporter": "python",
   "pygments_lexer": "ipython3",
   "version": "3.9.12"
  }
 },
 "nbformat": 4,
 "nbformat_minor": 5
}
